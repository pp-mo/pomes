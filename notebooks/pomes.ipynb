{
 "metadata": {
  "name": "",
  "signature": "sha256:f61d23d553f8b1c1efbfb4ad2bde1ebdf361c13c0fe166dcc86889d00cb953b4"
 },
 "nbformat": 3,
 "nbformat_minor": 0,
 "worksheets": [
  {
   "cells": [
    {
     "cell_type": "code",
     "collapsed": false,
     "input": [
      "from IPython.display import Image"
     ],
     "language": "python",
     "metadata": {
      "internals": {
       "slide_helper": "subslide_end",
       "slide_type": "subslide"
      },
      "slide_helper": "slide_end",
      "slideshow": {
       "slide_type": "slide"
      }
     },
     "outputs": [],
     "prompt_number": 1
    },
    {
     "cell_type": "markdown",
     "metadata": {
      "internals": {
       "slide_type": "subslide"
      },
      "slideshow": {
       "slide_type": "slide"
      }
     },
     "source": [
      "# Code Poetry\n",
      "A quick tour\n",
      "\n",
      "...\n"
     ]
    },
    {
     "cell_type": "code",
     "collapsed": false,
     "input": [
      "Image('/home/h05/itpp/git/pomes/all_go.png', width=622)"
     ],
     "language": "python",
     "metadata": {
      "internals": {
       "frag_number": 2,
       "slide_helper": "subslide_end"
      },
      "slide_helper": "slide_end",
      "slideshow": {
       "slide_type": "fragment"
      }
     },
     "outputs": [
      {
       "metadata": {
        "png": {
         "width": 622
        }
       },
       "output_type": "pyout",
       "png": "[encoded data removed]",
       "prompt_number": 2,
       "text": [
        "<IPython.core.display.Image at 0x2f46850>"
       ]
      }
     ],
     "prompt_number": 2
    },
    {
     "cell_type": "markdown",
     "metadata": {
      "internals": {
       "frag_helper": "fragment_end",
       "frag_number": 2,
       "slide_helper": "subslide_end",
       "slide_type": "subslide"
      },
      "slide_helper": "slide_end",
      "slideshow": {
       "slide_type": "slide"
      }
     },
     "source": [
      "# What *ever* is that ?\n",
      "\n",
      "What ever people think.\n",
      " * Code that looks like poetry\n",
      " * Poetry that looks like code\n",
      " * Code that generates a poem\n",
      " * Poems written in code\n",
      " * Code written in poetry"
     ]
    },
    {
     "cell_type": "markdown",
     "metadata": {
      "internals": {
       "frag_helper": "fragment_end",
       "frag_number": 2,
       "slide_type": "subslide"
      },
      "slideshow": {
       "slide_type": "slide"
      }
     },
     "source": [
      "# Of course, code can be beautiful anyway"
     ]
    },
    {
     "cell_type": "code",
     "collapsed": false,
     "input": [
      "def primes():\n",
      "    primes = set()\n",
      "    n = 2\n",
      "    while True:\n",
      "        n_isprime = True\n",
      "        for p in primes:\n",
      "            if n % p == 0:\n",
      "                n_isprime = False\n",
      "                break\n",
      "        if n_isprime:\n",
      "            primes.add(n)\n",
      "            yield n\n",
      "        n += 1"
     ],
     "language": "python",
     "metadata": {
      "internals": {
       "frag_helper": "fragment_end",
       "frag_number": 2
      },
      "slideshow": {
       "slide_type": "-"
      }
     },
     "outputs": [],
     "prompt_number": 3
    },
    {
     "cell_type": "code",
     "collapsed": false,
     "input": [
      "beauties = primes()\n",
      "[beauties.next() for x in range(20)]"
     ],
     "language": "python",
     "metadata": {
      "internals": {
       "frag_helper": "fragment_end",
       "frag_number": 2,
       "slide_helper": "subslide_end"
      },
      "slide_helper": "slide_end",
      "slideshow": {
       "slide_type": "-"
      }
     },
     "outputs": [
      {
       "metadata": {},
       "output_type": "pyout",
       "prompt_number": 4,
       "text": [
        "[2, 3, 5, 7, 11, 13, 17, 19, 23, 29, 31, 37, 41, 43, 47, 53, 59, 61, 67, 71]"
       ]
      }
     ],
     "prompt_number": 4
    },
    {
     "cell_type": "markdown",
     "metadata": {
      "internals": {
       "frag_helper": "fragment_end",
       "frag_number": 2,
       "slide_type": "subslide"
      },
      "slideshow": {
       "slide_type": "slide"
      }
     },
     "source": [
      "# But human meaning makes it poetry"
     ]
    },
    {
     "cell_type": "code",
     "collapsed": false,
     "input": [
      "Image('/home/h05/itpp/git/pomes/simplicity3.png')"
     ],
     "language": "python",
     "metadata": {
      "internals": {
       "frag_helper": "fragment_end",
       "frag_number": 2,
       "slide_helper": "subslide_end"
      },
      "slide_helper": "slide_end",
      "slideshow": {
       "slide_type": "-"
      }
     },
     "outputs": [
      {
       "metadata": {},
       "output_type": "pyout",
       "png": "[encoded data removed]",
       "prompt_number": 5,
       "text": [
        "<IPython.core.display.Image at 0x2f46a10>"
       ]
      }
     ],
     "prompt_number": 5
    },
    {
     "cell_type": "markdown",
     "metadata": {
      "internals": {
       "frag_helper": "fragment_end",
       "frag_number": 2,
       "slide_type": "subslide"
      },
      "slideshow": {
       "slide_type": "slide"
      }
     },
     "source": [
      "# Something slightly more serious"
     ]
    },
    {
     "cell_type": "code",
     "collapsed": false,
     "input": [
      "Image('/home/h05/itpp/git/pomes/capsized2.png', width=700)"
     ],
     "language": "python",
     "metadata": {
      "internals": {
       "frag_helper": "fragment_end",
       "frag_number": 2,
       "slide_helper": "subslide_end"
      },
      "slide_helper": "slide_end",
      "slideshow": {
       "slide_type": "-"
      }
     },
     "outputs": [
      {
       "metadata": {
        "png": {
         "width": 700
        }
       },
       "output_type": "pyout",
       "png": "[encoded data removed]",
       "prompt_number": 6,
       "text": [
        "<IPython.core.display.Image at 0x2f46c10>"
       ]
      }
     ],
     "prompt_number": 6
    },
    {
     "cell_type": "markdown",
     "metadata": {
      "internals": {
       "frag_helper": "fragment_end",
       "frag_number": 2,
       "slide_helper": "subslide_end",
       "slide_type": "subslide"
      },
      "slide_helper": "slide_end",
      "slideshow": {
       "slide_type": "slide"
      }
     },
     "source": [
      "# Communication\n",
      "\n",
      "What is code for, anyway ?"
     ]
    },
    {
     "cell_type": "markdown",
     "metadata": {
      "internals": {
       "frag_helper": "fragment_end",
       "frag_number": 2,
       "slide_helper": "subslide_end",
       "slide_type": "subslide"
      },
      "slide_helper": "slide_end",
      "slideshow": {
       "slide_type": "slide"
      }
     },
     "source": [
      "# And then there was the one about Apache ..."
     ]
    },
    {
     "cell_type": "markdown",
     "metadata": {
      "internals": {
       "frag_helper": "fragment_end",
       "frag_number": 2,
       "slide_helper": "subslide_end",
       "slide_type": "subslide"
      },
      "slide_helper": "slide_end",
      "slideshow": {
       "slide_type": "slide"
      }
     },
     "source": [
      "# But what about code that *runs* ?\n",
      "\n",
      "Some code poems are runnable code to *generate* a poem.  \n",
      "\n",
      "Some of these can seem a bit contrived :  \n",
      "\\- too much text embedded as strings  \n",
      "\\-  actual code is not so pretty\n",
      "\n",
      "A *random* element can add some life.  \n",
      "These are my favourite ..."
     ]
    },
    {
     "cell_type": "markdown",
     "metadata": {
      "internals": {
       "frag_helper": "fragment_end",
       "frag_number": 2,
       "slide_type": "subslide"
      },
      "slideshow": {
       "slide_type": "slide"
      }
     },
     "source": [
      "# A functional finalist"
     ]
    },
    {
     "cell_type": "code",
     "collapsed": false,
     "input": [
      "# \"Me and You\" :  Matthew Lee, Surrogate: Myles Borins\n",
      "import random\n",
      "\n",
      "traits = [\"only speak when spoken to\", \"never know how to introduce myself\", \"hide in the middle of a group\", \"lead in the front\", \"make my opinions known\", \"do all of my homework\", \"have a plan\", \"know what will work and won't\", \"believe in true love\", \"get caught in the past\", \"know the future will be better\", \"want to please\", \"set goals\", \"smile at strangers\", \"watch my feet when walking\", \"look for things to do\", \"let things unfold\", \"climb trees\", \"keep my feet on the ground\", \"walk fast\", \"drive slow\", \"read the newspaper\", \"watch cartoons\", \"eat breakfast\", \"believe in the midnight snack\", \"snore\", \"yawn loudly\", \"love vegetables\", \"eat gluten-free\", \"get cold easily\", \"need a hug\", \"get lost in eyes\", \"hate my reflection\", \"sing in the shower\", \"give others the benefit of the doubt\", \"double-check the lock on the door\", \"watch the sunrise\", \"floss\", \"hide my scars\", \"listen to Chopin\", \"keep a diary\", \"scrapbook\", \"knit\", \"sweat a lot\", \"wash your hands before eating\", \"pray\"]\n",
      "\n",
      "def Me():\n",
      "        my_trait = traits[random.randint(0, len(traits)-1)]\n",
      "        print \"I \" + my_trait + \".\"\n",
      "        return my_trait\n",
      "\n",
      "def You():\n",
      "        your_trait = traits[random.randint(0, len(traits)-1)]\n",
      "        your_trait = your_trait.replace(\"my\", \"your\")\n",
      "        your_trait = your_trait.replace(\"am\", \"are\")\n",
      "        print \"You \" + your_trait + \".\"\n",
      "        return your_trait\n",
      "\n",
      "def WillItWork(me, you):\n",
      "        print \"Will it work?\"\n",
      "        willitwork = random.choice([\"Yes\", \"No\"])\n",
      "        print willitwork + \".\"\n",
      "        if willitwork == \"No\":\n",
      "                print \"Will it be okay?\"\n",
      "                print random.choice([\"Yes\", \"No\"]) + \".\""
     ],
     "language": "python",
     "metadata": {
      "internals": {
       "frag_helper": "fragment_end",
       "frag_number": 2
      },
      "slideshow": {
       "slide_type": "-"
      }
     },
     "outputs": [],
     "prompt_number": 7
    },
    {
     "cell_type": "code",
     "collapsed": false,
     "input": [
      "def go():\n",
      "  me = Me()\n",
      "  you = You()\n",
      "  WillItWork(me, you)"
     ],
     "language": "python",
     "metadata": {
      "internals": {
       "frag_helper": "fragment_end",
       "frag_number": 16,
       "slide_helper": "subslide_end"
      },
      "slide_helper": "slide_end",
      "slideshow": {
       "slide_type": "fragment"
      }
     },
     "outputs": [],
     "prompt_number": 8
    },
    {
     "cell_type": "code",
     "collapsed": false,
     "input": [
      "# Live test (!)\n",
      "go()"
     ],
     "language": "python",
     "metadata": {
      "internals": {
       "frag_helper": "fragment_end",
       "frag_number": 16,
       "slide_helper": "subslide_end",
       "slide_type": "subslide"
      },
      "slide_helper": "slide_end",
      "slideshow": {
       "slide_type": "slide"
      }
     },
     "outputs": []
    },
    {
     "cell_type": "code",
     "collapsed": false,
     "input": [
      "for i in range(4):\n",
      "    go()\n",
      "    print"
     ],
     "language": "python",
     "metadata": {
      "internals": {
       "frag_helper": "fragment_end",
       "frag_number": 16,
       "slide_helper": "subslide_end",
       "slide_type": "subslide"
      },
      "slide_helper": "slide_end",
      "slideshow": {
       "slide_type": "slide"
      }
     },
     "outputs": []
    },
    {
     "cell_type": "markdown",
     "metadata": {
      "internals": {
       "frag_helper": "fragment_end",
       "frag_number": 16,
       "slide_type": "subslide"
      },
      "slideshow": {
       "slide_type": "slide"
      }
     },
     "source": [
      "# Another, tiny, running example\n",
      "\n",
      "More fun with randomness, and a lot less English."
     ]
    },
    {
     "cell_type": "code",
     "collapsed": false,
     "input": [
      "import random\n",
      "from datetime import datetime\n",
      "\n",
      "def makeline(words):\n",
      "    line = ' '.join(words)\n",
      "    line = line[0].upper() + line[1:] + '.'\n",
      "    return line\n",
      "\n",
      "def pome(phrase):\n",
      "    words = phrase.split()\n",
      "    while words:\n",
      "    \tfor _ in range(3):\n",
      "            print makeline(words)\n",
      "            random.shuffle(words)\n",
      "        print\n",
      "        words.pop(random.randrange(len(words)))\n",
      "\n",
      "random.seed(datetime.now().microsecond)\n",
      "phrase = 'now is the time'\n",
      "# pome(phrase)\n"
     ],
     "language": "python",
     "metadata": {
      "internals": {
       "frag_helper": "fragment_end",
       "frag_number": 20
      },
      "slideshow": {
       "slide_type": "fragment"
      }
     },
     "outputs": [],
     "prompt_number": 11
    },
    {
     "cell_type": "code",
     "collapsed": false,
     "input": [
      "pome(phrase)"
     ],
     "language": "python",
     "metadata": {
      "internals": {
       "frag_helper": "fragment_end",
       "frag_number": 20,
       "slide_helper": "subslide_end"
      },
      "slide_helper": "slide_end",
      "slideshow": {
       "slide_type": "notes"
      }
     },
     "outputs": [
      {
       "output_type": "stream",
       "stream": "stdout",
       "text": [
        "Now is the time.\n",
        "Now time is the.\n",
        "The time is now.\n",
        "\n",
        "Now is the.\n",
        "Is the now.\n",
        "The now is.\n",
        "\n",
        "The is.\n",
        "Is the.\n",
        "The is.\n",
        "\n",
        "Is.\n",
        "Is.\n",
        "Is.\n",
        "\n"
       ]
      }
     ],
     "prompt_number": 12
    },
    {
     "cell_type": "code",
     "collapsed": false,
     "input": [
      "pome(phrase)"
     ],
     "language": "python",
     "metadata": {
      "internals": {
       "frag_helper": "fragment_end",
       "frag_number": 20,
       "slide_helper": "subslide_end",
       "slide_type": "subslide"
      },
      "slide_helper": "slide_end",
      "slideshow": {
       "slide_type": "slide"
      }
     },
     "outputs": []
    },
    {
     "cell_type": "code",
     "collapsed": false,
     "input": [
      "# Repurpose slightly.\n",
      "pome('are we done yet')"
     ],
     "language": "python",
     "metadata": {
      "internals": {
       "frag_helper": "fragment_end",
       "frag_number": 20,
       "slide_helper": "subslide_end",
       "slide_type": "subslide"
      },
      "slide_helper": "slide_end",
      "slideshow": {
       "slide_type": "slide"
      }
     },
     "outputs": []
    },
    {
     "cell_type": "markdown",
     "metadata": {
      "internals": {
       "frag_helper": "fragment_end",
       "frag_number": 20,
       "slide_helper": "subslide_end",
       "slide_type": "subslide"
      },
      "slide_helper": "slide_end",
      "slideshow": {
       "slide_type": "slide"
      }
     },
     "source": [
      "# and finally... real, runnable code written *in the form of* poetry\n",
      "\n",
      "I give you : \"Shakespeare Programming Language\" (SPL)\n",
      "\n",
      "http://shakespearelang.sourceforge.net/report/shakespeare/\n"
     ]
    },
    {
     "cell_type": "markdown",
     "metadata": {
      "internals": {
       "frag_helper": "fragment_end",
       "frag_number": 20,
       "slide_type": "subslide"
      },
      "slideshow": {
       "slide_type": "slide"
      }
     },
     "source": [
      "# Thanks, and Love to all  !"
     ]
    },
    {
     "cell_type": "code",
     "collapsed": false,
     "input": [
      "Image('/home/h05/itpp/git/pomes/NerdLuv2.jpg')"
     ],
     "language": "python",
     "metadata": {
      "internals": {
       "frag_helper": "fragment_end",
       "frag_number": 20
      },
      "slideshow": {
       "slide_type": "-"
      }
     },
     "outputs": [
      {
       "jpeg": "[encoded data removed]",
       "metadata": {},
       "output_type": "pyout",
       "prompt_number": 15,
       "text": [
        "<IPython.core.display.Image at 0x2f46ed0>"
       ]
      }
     ],
     "prompt_number": 15
    },
    {
     "cell_type": "markdown",
     "metadata": {
      "internals": {
       "frag_helper": "fragment_end",
       "frag_number": 20,
       "slide_helper": "subslide_end"
      },
      "slide_helper": "slide_end",
      "slideshow": {
       "slide_type": "-"
      }
     },
     "source": [
      "  \n",
      "  \n",
      "## P.S.\n",
      "## For a good start, search *\"stanford code poetry slam\"*"
     ]
    },
    {
     "cell_type": "code",
     "collapsed": false,
     "input": [
      "# (end)"
     ],
     "language": "python",
     "metadata": {
      "internals": {
       "frag_helper": "fragment_end",
       "frag_number": 20,
       "slide_helper": "subslide_end",
       "slide_type": "subslide"
      },
      "slide_helper": "slide_end",
      "slideshow": {
       "slide_type": "slide"
      }
     },
     "outputs": [],
     "prompt_number": 16
    },
    {
     "cell_type": "code",
     "collapsed": false,
     "input": [
      "# (end)"
     ],
     "language": "python",
     "metadata": {
      "internals": {
       "frag_helper": "fragment_end",
       "frag_number": 20,
       "slide_helper": "subslide_end",
       "slide_type": "subslide"
      },
      "slide_helper": "slide_end",
      "slideshow": {
       "slide_type": "slide"
      }
     },
     "outputs": [],
     "prompt_number": 17
    },
    {
     "cell_type": "code",
     "collapsed": false,
     "input": [
      "# (end)"
     ],
     "language": "python",
     "metadata": {
      "internals": {
       "frag_helper": "fragment_end",
       "frag_number": 20,
       "slide_helper": "subslide_end",
       "slide_type": "subslide"
      },
      "slide_helper": "slide_end",
      "slideshow": {
       "slide_type": "slide"
      }
     },
     "outputs": [],
     "prompt_number": 18
    },
    {
     "cell_type": "code",
     "collapsed": false,
     "input": [],
     "language": "python",
     "metadata": {
      "internals": {
       "frag_helper": "fragment_end",
       "frag_number": 20,
       "slide_helper": "subslide_end",
       "slide_type": "subslide"
      },
      "slide_helper": "subslide_end",
      "slideshow": {
       "slide_type": "slide"
      }
     },
     "outputs": [],
     "prompt_number": 18
    },
    {
     "cell_type": "markdown",
     "metadata": {
      "internals": {
       "frag_helper": "fragment_end",
       "frag_number": 20,
       "slide_helper": "subslide_end",
       "slide_type": "subslide"
      },
      "slide_helper": "subslide_end",
      "slideshow": {
       "slide_type": "subslide"
      }
     },
     "source": [
      "# A chunk of text\n",
      "\n",
      "On an Acura Integra\n",
      "\n",
      "BY PAUL VIOLI\n",
      "\n",
      "```\n",
      "  Please think of this as not merely a piece\n",
      "  Of writing that anyone would fully\n",
      "  Appreciate, but as plain and simple\n",
      "  Words that attempt to arouse whatever\n",
      "  Appetencies you, especially, depend\n",
      "  Upon language to fulfill; that drench you\n",
      "  In several levels of meaning at once,\n",
      "  Rendering my presence superfluous.\n",
      "  In other words, welcome this as a poem,\n",
      "  Not merely a missive I\u2019ve slowly composed\n",
      "  And tucked under your windshield wiper\n",
      "  So that these onlookers who saw me bash\n",
      "  In your fender will think I\u2019m jotting down\n",
      "  The usual information and go away.\n",
      "```\n"
     ]
    },
    {
     "cell_type": "markdown",
     "metadata": {
      "internals": {
       "frag_helper": "fragment_end",
       "frag_number": 20,
       "slide_type": "subslide"
      },
      "slideshow": {
       "slide_type": "subslide"
      }
     },
     "source": [
      "# The same, with a pseudo-code structure"
     ]
    },
    {
     "cell_type": "code",
     "collapsed": false,
     "input": [
      "# Is this actually better ?\n",
      "Image('/home/h05/itpp/usefuls/code_poetry/acura_struct.png')"
     ],
     "language": "python",
     "metadata": {
      "internals": {
       "frag_helper": "fragment_end",
       "frag_number": 34,
       "slide_helper": "subslide_end"
      },
      "slide_helper": "slide_end",
      "slideshow": {
       "slide_type": "fragment"
      }
     },
     "outputs": [
      {
       "metadata": {},
       "output_type": "pyout",
       "png": "[encoded data removed]",
       "prompt_number": 19,
       "text": [
        "<IPython.core.display.Image at 0x2f68790>"
       ]
      }
     ],
     "prompt_number": 19
    }
   ],
   "metadata": {}
  }
 ]
}